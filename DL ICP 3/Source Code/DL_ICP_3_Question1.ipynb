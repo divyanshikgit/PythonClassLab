{
  "nbformat": 4,
  "nbformat_minor": 0,
  "metadata": {
    "colab": {
      "name": "DL ICP 3 Question1.ipynb",
      "provenance": []
    },
    "kernelspec": {
      "name": "python3",
      "display_name": "Python 3"
    },
    "language_info": {
      "name": "python"
    }
  },
  "cells": [
    {
      "cell_type": "code",
      "metadata": {
        "colab": {
          "base_uri": "https://localhost:8080/"
        },
        "id": "3ch_HczHIq_8",
        "outputId": "657c0765-bcd6-4757-9434-f224fd763685"
      },
      "source": [
        "from google.colab import drive\n",
        "drive.mount('/content/drive')\n"
      ],
      "execution_count": 18,
      "outputs": [
        {
          "output_type": "stream",
          "text": [
            "Mounted at /content/drive\n"
          ],
          "name": "stdout"
        }
      ]
    },
    {
      "cell_type": "code",
      "metadata": {
        "colab": {
          "base_uri": "https://localhost:8080/"
        },
        "id": "CUCU-ol6dzFS",
        "outputId": "25796b4c-5733-423c-d43b-841cacdbeca5"
      },
      "source": [
        "from keras.models import Sequential\n",
        "from keras import layers\n",
        "from keras.preprocessing.text import Tokenizer\n",
        "from keras.preprocessing.sequence import pad_sequences\n",
        "import pandas as pd\n",
        "from sklearn import preprocessing\n",
        "from sklearn.model_selection import train_test_split\n",
        "import numpy as np\n",
        "\n",
        "df = pd.read_csv('/content/drive/MyDrive/imdb_master.csv',encoding='latin-1')\n",
        "print(df.head())\n",
        "sentences = df['review'].values\n",
        "y = df['label'].values\n",
        "\n",
        "#tokenizing data\n",
        "tokenizer = Tokenizer(num_words=2000)\n",
        "tokenizer.fit_on_texts(sentences)\n",
        "\n",
        "#getting the vocabulary of data\n",
        "sentences = tokenizer.texts_to_matrix(sentences)\n",
        "le = preprocessing.LabelEncoder()\n",
        "y = le.fit_transform(y)\n",
        "X_train, X_test, y_train, y_test = train_test_split(sentences, y, test_size=0.25, random_state=1000)\n",
        "\n",
        "# Number of features\n",
        "model = Sequential()\n",
        "\n",
        "#here the input_dim is changed to 2000 and activation input is relu\n",
        "model.add(layers.Dense(300,input_dim=2000, activation='relu'))\n",
        "model.add(layers.Dense(3, activation='softmax'))\n",
        "model.compile(loss='sparse_categorical_crossentropy',optimizer='adam',metrics=['acc'])\n",
        "history=model.fit(X_train,y_train, epochs=5, verbose=True, validation_data=(X_test,y_test), batch_size=256)"
      ],
      "execution_count": 23,
      "outputs": [
        {
          "output_type": "stream",
          "text": [
            "   Unnamed: 0  type  ... label         file\n",
            "0           0  test  ...   neg      0_2.txt\n",
            "1           1  test  ...   neg  10000_4.txt\n",
            "2           2  test  ...   neg  10001_1.txt\n",
            "3           3  test  ...   neg  10002_3.txt\n",
            "4           4  test  ...   neg  10003_3.txt\n",
            "\n",
            "[5 rows x 5 columns]\n",
            "Epoch 1/5\n",
            "293/293 [==============================] - 5s 16ms/step - loss: 0.9221 - acc: 0.4978 - val_loss: 0.8454 - val_acc: 0.5158\n",
            "Epoch 2/5\n",
            "293/293 [==============================] - 5s 16ms/step - loss: 0.7892 - acc: 0.5797 - val_loss: 0.8409 - val_acc: 0.5157\n",
            "Epoch 3/5\n",
            "293/293 [==============================] - 5s 16ms/step - loss: 0.6801 - acc: 0.6871 - val_loss: 0.8785 - val_acc: 0.5165\n",
            "Epoch 4/5\n",
            "293/293 [==============================] - 5s 15ms/step - loss: 0.4912 - acc: 0.8269 - val_loss: 0.9564 - val_acc: 0.5116\n",
            "Epoch 5/5\n",
            "293/293 [==============================] - 5s 16ms/step - loss: 0.2836 - acc: 0.9343 - val_loss: 1.0751 - val_acc: 0.5096\n"
          ],
          "name": "stdout"
        }
      ]
    }
  ]
}