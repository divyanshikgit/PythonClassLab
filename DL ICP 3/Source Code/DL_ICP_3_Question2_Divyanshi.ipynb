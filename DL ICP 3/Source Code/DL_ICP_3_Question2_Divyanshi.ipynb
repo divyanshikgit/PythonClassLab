{
  "nbformat": 4,
  "nbformat_minor": 0,
  "metadata": {
    "colab": {
      "name": "DL ICP 3 Question2 Divyanshi.ipynb",
      "provenance": []
    },
    "kernelspec": {
      "name": "python3",
      "display_name": "Python 3"
    },
    "language_info": {
      "name": "python"
    }
  },
  "cells": [
    {
      "cell_type": "code",
      "metadata": {
        "colab": {
          "base_uri": "https://localhost:8080/"
        },
        "id": "5lxxMzsEiX0d",
        "outputId": "95c59a7c-5ee3-42cb-d97e-e6225b9b1a61"
      },
      "source": [
        "from google.colab import drive\n",
        "drive.mount('/content/drive')"
      ],
      "execution_count": 1,
      "outputs": [
        {
          "output_type": "stream",
          "text": [
            "Mounted at /content/drive\n"
          ],
          "name": "stdout"
        }
      ]
    },
    {
      "cell_type": "code",
      "metadata": {
        "colab": {
          "base_uri": "https://localhost:8080/"
        },
        "id": "c7qsc2IMjk9A",
        "outputId": "d1827fe7-2192-4214-b345-648e2eed8e9e"
      },
      "source": [
        "from keras.models import Sequential\n",
        "from keras import layers\n",
        "from keras.preprocessing.text import Tokenizer\n",
        "import pandas as pd\n",
        "from keras.layers import Flatten\n",
        "from keras.layers.embeddings import Embedding\n",
        "from keras.preprocessing.sequence import pad_sequences\n",
        "import matplotlib.pyplot as plt\n",
        "from sklearn import preprocessing\n",
        "from sklearn.datasets import fetch_20newsgroups\n",
        "from tensorflow.keras import datasets, layers, models\n",
        "from tensorflow import keras\n",
        "from sklearn.model_selection import train_test_split\n",
        "\n",
        "df = pd.read_csv('/content/drive/MyDrive/imdb_master.csv',encoding='latin-1')\n",
        "print(df.head())\n",
        "sentences = df['review'].values\n",
        "y = df['label'].values"
      ],
      "execution_count": 7,
      "outputs": [
        {
          "output_type": "stream",
          "text": [
            "   Unnamed: 0  type  ... label         file\n",
            "0           0  test  ...   neg      0_2.txt\n",
            "1           1  test  ...   neg  10000_4.txt\n",
            "2           2  test  ...   neg  10001_1.txt\n",
            "3           3  test  ...   neg  10002_3.txt\n",
            "4           4  test  ...   neg  10003_3.txt\n",
            "\n",
            "[5 rows x 5 columns]\n"
          ],
          "name": "stdout"
        }
      ]
    },
    {
      "cell_type": "code",
      "metadata": {
        "colab": {
          "base_uri": "https://localhost:8080/"
        },
        "id": "OIlqbT9YkNSt",
        "outputId": "74a56124-55b0-4ed2-d3b3-83975e72e082"
      },
      "source": [
        "max_review_len= max([len(s.split()) for s in sentences])\n",
        "#tokenizing data\n",
        "tokenizer = Tokenizer(num_words=max_review_len)\n",
        "tokenizer.fit_on_texts(sentences)\n",
        "\n",
        "#getting the vocabulary of data\n",
        "vocab_size= len(tokenizer.word_index)+1\n",
        "sentences = tokenizer.texts_to_sequences(sentences)\n",
        "padded_docs= pad_sequences(sentences,maxlen=max_review_len)\n",
        "le = preprocessing.LabelEncoder()\n",
        "y = le.fit_transform(y)\n",
        "X_train, X_test, y_train, y_test = train_test_split(padded_docs, y, test_size=0.25, random_state=1000)\n",
        "\n",
        "# Number of features\n",
        "model = Sequential()\n",
        "\n",
        "#Embedded Layer is added\n",
        "model.add(Embedding(vocab_size, 50, input_length=max_review_len))\n",
        "model.add(layers.Flatten())\n",
        "model.add(layers.Dense(300,activation='relu'))\n",
        "model.add(layers.Dense(3, activation='softmax'))\n",
        "model.compile(loss='sparse_categorical_crossentropy',optimizer='adam',metrics=['acc'])\n",
        "history=model.fit(X_train,y_train, epochs=5, verbose=True, validation_data=(X_test,y_test), batch_size=256)\n",
        "\n",
        "#Calculating the loss and accuracy by evaluating the data\n",
        "[train_loss, train_acc] = model.evaluate(X_test,y_test)\n",
        "print(\"Evaluation result on Train Data : Loss = {}, accuracy = {}\".format(train_loss, train_acc))"
      ],
      "execution_count": 8,
      "outputs": [
        {
          "output_type": "stream",
          "text": [
            "Epoch 1/5\n",
            "293/293 [==============================] - 483s 2s/step - loss: 1.5517 - acc: 0.4686 - val_loss: 0.8588 - val_acc: 0.5028\n",
            "Epoch 2/5\n",
            "293/293 [==============================] - 513s 2s/step - loss: 0.8428 - acc: 0.5165 - val_loss: 0.8304 - val_acc: 0.5110\n",
            "Epoch 3/5\n",
            "293/293 [==============================] - 539s 2s/step - loss: 0.7953 - acc: 0.5476 - val_loss: 0.8325 - val_acc: 0.5032\n",
            "Epoch 4/5\n",
            "293/293 [==============================] - 528s 2s/step - loss: 0.7405 - acc: 0.6059 - val_loss: 0.8567 - val_acc: 0.5027\n",
            "Epoch 5/5\n",
            "293/293 [==============================] - 548s 2s/step - loss: 0.6394 - acc: 0.6960 - val_loss: 0.9409 - val_acc: 0.4915\n",
            "782/782 [==============================] - 73s 94ms/step - loss: 0.9409 - acc: 0.4915\n",
            "Evaluation result on Train Data : Loss = 0.9409086108207703, accuracy = 0.4914799928665161\n"
          ],
          "name": "stdout"
        }
      ]
    },
    {
      "cell_type": "code",
      "metadata": {
        "colab": {
          "base_uri": "https://localhost:8080/",
          "height": 295
        },
        "id": "ynKJyCBewm5z",
        "outputId": "5264845b-e355-4596-c702-2edbff05cdd2"
      },
      "source": [
        "# plotting loss and accuracy using history obj\n",
        "import matplotlib.pyplot as plt\n",
        "plt.plot(history.history['acc'])\n",
        "plt.plot(history.history['val_acc'])\n",
        "plt.plot(history.history['loss'])\n",
        "plt.plot(history.history['val_loss'])\n",
        "plt.title('model accuracy')\n",
        "plt.ylabel('accuracy')\n",
        "plt.xlabel('epoch')\n",
        "plt.legend(['accuracy', 'validation accuracy','loss','val_loss'], loc='upper left')\n",
        "plt.show()"
      ],
      "execution_count": 10,
      "outputs": [
        {
          "output_type": "display_data",
          "data": {
            "image/png": "[encoded data removed]",
            "text/plain": [
              "<Figure size 432x288 with 1 Axes>"
            ]
          },
          "metadata": {
            "tags": [],
            "needs_background": "light"
          }
        }
      ]
    }
  ]
}