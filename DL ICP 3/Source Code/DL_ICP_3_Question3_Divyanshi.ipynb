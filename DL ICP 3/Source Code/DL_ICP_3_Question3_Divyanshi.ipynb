{
  "nbformat": 4,
  "nbformat_minor": 0,
  "metadata": {
    "colab": {
      "name": "DL ICP 3 Question3 Divyanshi.ipynb",
      "provenance": []
    },
    "kernelspec": {
      "name": "python3",
      "display_name": "Python 3"
    },
    "language_info": {
      "name": "python"
    }
  },
  "cells": [
    {
      "cell_type": "code",
      "metadata": {
        "colab": {
          "base_uri": "https://localhost:8080/",
          "height": 570
        },
        "id": "WpryV_DXf-Ow",
        "outputId": "b4883fb6-cdeb-4a39-eee9-cf217d708f87"
      },
      "source": [
        "from keras.models import Sequential\n",
        "from keras import layers\n",
        "from keras.preprocessing.text import Tokenizer\n",
        "import pandas as pd\n",
        "from keras.layers import Flatten\n",
        "from keras.layers.embeddings import Embedding\n",
        "from keras.preprocessing.sequence import pad_sequences\n",
        "import matplotlib.pyplot as plt\n",
        "from sklearn import preprocessing\n",
        "from sklearn.datasets import fetch_20newsgroups\n",
        "from tensorflow.keras import datasets, layers, models\n",
        "from tensorflow import keras\n",
        "from sklearn.model_selection import train_test_split\n",
        "\n",
        "newsgroups_train = fetch_20newsgroups(subset='train', shuffle=True)\n",
        "sentences = newsgroups_train.data\n",
        "y = newsgroups_train.target\n",
        "max_review_len= max([len(s.split()) for s in sentences])\n",
        "\n",
        "#tokenizing data\n",
        "tokenizer = Tokenizer(num_words=max_review_len)\n",
        "tokenizer.fit_on_texts(sentences)\n",
        "\n",
        "#getting the vocabulary of data\n",
        "vocab_size= len(tokenizer.word_index)+1\n",
        "sentences = tokenizer.texts_to_sequences(sentences)\n",
        "padded_docs= pad_sequences(sentences,maxlen=max_review_len)\n",
        "\n",
        "#Preprocessing the data and transforming\n",
        "le = preprocessing.LabelEncoder()\n",
        "y = le.fit_transform(y)\n",
        "X_train, X_test, y_train, y_test = train_test_split(padded_docs, y, test_size=0.25, random_state=1000)\n",
        "\n",
        "# Doing the same for 20 news data\n",
        "model = Sequential()\n",
        "model.add(Embedding(vocab_size, 50, input_length=max_review_len))\n",
        "model.add(layers.Flatten())\n",
        "model.add(layers.Dense(300,activation='relu'))\n",
        "model.add(layers.Dense(20, activation='softmax'))\n",
        "model.compile(loss='sparse_categorical_crossentropy',optimizer='adam',metrics=['acc'])\n",
        "history=model.fit(X_train,y_train, epochs=5, verbose=True, validation_data=(X_test,y_test), batch_size=256)\n",
        "\n",
        "#Calculating the loss and accuracy by evaluating the data\n",
        "[test_loss, test_acc] = model.evaluate(X_test,y_test)\n",
        "print(\"Evaluation result on Test Data : Loss = {}, accuracy = {}\".format(test_loss, test_acc))\n",
        "\n",
        "# plotting loss and accuracy using history object\n",
        "plt.plot(history.history['acc'])\n",
        "plt.plot(history.history['val_acc'])\n",
        "plt.plot(history.history['loss'])\n",
        "plt.plot(history.history['val_loss'])\n",
        "plt.title('model accuracy')\n",
        "plt.ylabel('accuracy')\n",
        "plt.xlabel('epoch')\n",
        "plt.legend(['accuray', 'val_accuracy','loss','val_loss'], loc='upper right')\n",
        "plt.show()\n",
        "\n",
        "# Predicting with the sample data\n",
        "pred = model.predict_classes(X_test[[2],:])\n",
        "print(\"Actual Prediction\",y_test[1],\"Predicted Prediction\", pred)\n"
      ],
      "execution_count": 3,
      "outputs": [
        {
          "output_type": "stream",
          "text": [
            "Epoch 1/5\n",
            "34/34 [==============================] - 262s 8s/step - loss: 16.1000 - acc: 0.0586 - val_loss: 3.0416 - val_acc: 0.0537\n",
            "Epoch 2/5\n",
            "34/34 [==============================] - 247s 7s/step - loss: 2.9929 - acc: 0.0683 - val_loss: 2.9639 - val_acc: 0.0788\n",
            "Epoch 3/5\n",
            "34/34 [==============================] - 258s 8s/step - loss: 2.8888 - acc: 0.0930 - val_loss: 2.9595 - val_acc: 0.0919\n",
            "Epoch 4/5\n",
            "34/34 [==============================] - 256s 8s/step - loss: 2.7445 - acc: 0.1411 - val_loss: 2.6472 - val_acc: 0.1774\n",
            "Epoch 5/5\n",
            "34/34 [==============================] - 253s 7s/step - loss: 2.4676 - acc: 0.2518 - val_loss: 2.3058 - val_acc: 0.2945\n",
            "89/89 [==============================] - 27s 307ms/step - loss: 2.3058 - acc: 0.2945\n",
            "Evaluation result on Test Data : Loss = 2.305750608444214, accuracy = 0.2944503426551819\n"
          ],
          "name": "stdout"
        },
        {
          "output_type": "display_data",
          "data": {
            "image/png": "[encoded data removed]",
            "text/plain": [
              "<Figure size 432x288 with 1 Axes>"
            ]
          },
          "metadata": {
            "tags": [],
            "needs_background": "light"
          }
        },
        {
          "output_type": "stream",
          "text": [
            "/usr/local/lib/python3.7/dist-packages/tensorflow/python/keras/engine/sequential.py:450: UserWarning: `model.predict_classes()` is deprecated and will be removed after 2021-01-01. Please use instead:* `np.argmax(model.predict(x), axis=-1)`,   if your model does multi-class classification   (e.g. if it uses a `softmax` last-layer activation).* `(model.predict(x) > 0.5).astype(\"int32\")`,   if your model does binary classification   (e.g. if it uses a `sigmoid` last-layer activation).\n",
            "  warnings.warn('`model.predict_classes()` is deprecated and '\n"
          ],
          "name": "stderr"
        },
        {
          "output_type": "stream",
          "text": [
            "Actual Prediction 6 Predicted Prediction [13]\n"
          ],
          "name": "stdout"
        }
      ]
    }
  ]
}