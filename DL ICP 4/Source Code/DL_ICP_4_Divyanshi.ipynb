{
  "nbformat": 4,
  "nbformat_minor": 0,
  "metadata": {
    "colab": {
      "name": "DL ICP 4 Divyanshi.ipynb",
      "provenance": [],
      "collapsed_sections": []
    },
    "kernelspec": {
      "name": "python3",
      "display_name": "Python 3"
    },
    "language_info": {
      "name": "python"
    }
  },
  "cells": [
    {
      "cell_type": "code",
      "metadata": {
        "colab": {
          "base_uri": "https://localhost:8080/",
          "height": 35
        },
        "id": "t_CZBUaDVsZ3",
        "outputId": "df28724a-57c3-44c7-eb7b-bf0ca1d531dd"
      },
      "source": [
        "import numpy\n",
        "from keras.datasets import cifar10\n",
        "from keras.models import Sequential\n",
        "from keras.layers import Dense\n",
        "from keras.layers import Dropout\n",
        "from keras.layers import Flatten\n",
        "from keras.constraints import maxnorm\n",
        "from keras.optimizers import SGD\n",
        "from keras.layers.convolutional import Conv2D\n",
        "from keras.layers.convolutional import MaxPooling2D\n",
        "from keras.utils import np_utils\n",
        "from keras import backend as K\n",
        "K.image_data_format()"
      ],
      "execution_count": 21,
      "outputs": [
        {
          "output_type": "execute_result",
          "data": {
            "application/vnd.google.colaboratory.intrinsic+json": {
              "type": "string"
            },
            "text/plain": [
              "'channels_last'"
            ]
          },
          "metadata": {
            "tags": []
          },
          "execution_count": 21
        }
      ]
    },
    {
      "cell_type": "code",
      "metadata": {
        "id": "gzim3A0P_EM6"
      },
      "source": [
        "#Adding seed\n",
        "seed = 7\n",
        "numpy.random.seed(seed)"
      ],
      "execution_count": 22,
      "outputs": []
    },
    {
      "cell_type": "code",
      "metadata": {
        "colab": {
          "base_uri": "https://localhost:8080/"
        },
        "id": "ZYzK2Vcn_Gyi",
        "outputId": "d1a7e5c9-de72-4022-903f-618450a5c824"
      },
      "source": [
        "# Loading the data\n",
        "(X_train, y_train), (X_test, y_test) = cifar10.load_data()\n",
        "X_train.shape[1:]"
      ],
      "execution_count": 23,
      "outputs": [
        {
          "output_type": "execute_result",
          "data": {
            "text/plain": [
              "(32, 32, 3)"
            ]
          },
          "metadata": {
            "tags": []
          },
          "execution_count": 23
        }
      ]
    },
    {
      "cell_type": "code",
      "metadata": {
        "id": "oMdBcyyo_dUI"
      },
      "source": [
        "#Normalize the inputs\n",
        "\n",
        "X_train = X_train.astype('float32')\n",
        "X_test = X_test.astype('float32')\n",
        "X_train = X_train / 255.0\n",
        "X_test = X_test / 255.0\n",
        "yp=y_test"
      ],
      "execution_count": 24,
      "outputs": []
    },
    {
      "cell_type": "code",
      "metadata": {
        "id": "ex_fzAfz_jsM"
      },
      "source": [
        "y_train = np_utils.to_categorical(y_train)\n",
        "y_test = np_utils.to_categorical(y_test)\n",
        "num_classes = y_test.shape[1]"
      ],
      "execution_count": 25,
      "outputs": []
    },
    {
      "cell_type": "code",
      "metadata": {
        "id": "33prf-lM_uJo"
      },
      "source": [
        "#Creating the model\n",
        "\n",
        "model = Sequential()\n",
        "model.add(Conv2D(32, (3, 3), input_shape=(X_train.shape[1:]), padding='same', activation='relu', kernel_constraint=maxnorm(3)))\n",
        "model.add(Dropout(0.2))\n",
        "model.add(Conv2D(32, (3, 3), activation='relu', padding='same', kernel_constraint=maxnorm(3)))\n",
        "model.add(MaxPooling2D(pool_size=(2, 2)))\n",
        "model.add(Flatten())\n",
        "model.add(Dense(512, activation='relu', kernel_constraint=maxnorm(3)))\n",
        "model.add(Dropout(0.5))\n",
        "model.add(Dense(num_classes, activation='softmax'))"
      ],
      "execution_count": 26,
      "outputs": []
    },
    {
      "cell_type": "code",
      "metadata": {
        "id": "clPiHD7-_w62"
      },
      "source": [
        "epochs = 3\n",
        "lrate = 0.01\n",
        "decay = lrate/epochs\n",
        "sgd = SGD(lr=lrate, momentum=0.9, decay=decay, nesterov=False)\n",
        "model.compile(loss='categorical_crossentropy', optimizer=sgd, metrics=['accuracy'])"
      ],
      "execution_count": 27,
      "outputs": []
    },
    {
      "cell_type": "code",
      "metadata": {
        "colab": {
          "base_uri": "https://localhost:8080/"
        },
        "id": "G6r7m_Nd_zr5",
        "outputId": "a0aa3aa6-5f55-4c03-d66a-3160ebe83c0a"
      },
      "source": [
        "print(model.summary())"
      ],
      "execution_count": 28,
      "outputs": [
        {
          "output_type": "stream",
          "text": [
            "Model: \"sequential_1\"\n",
            "_________________________________________________________________\n",
            "Layer (type)                 Output Shape              Param #   \n",
            "=================================================================\n",
            "conv2d_2 (Conv2D)            (None, 32, 32, 32)        896       \n",
            "_________________________________________________________________\n",
            "dropout_2 (Dropout)          (None, 32, 32, 32)        0         \n",
            "_________________________________________________________________\n",
            "conv2d_3 (Conv2D)            (None, 32, 32, 32)        9248      \n",
            "_________________________________________________________________\n",
            "max_pooling2d_1 (MaxPooling2 (None, 16, 16, 32)        0         \n",
            "_________________________________________________________________\n",
            "flatten_1 (Flatten)          (None, 8192)              0         \n",
            "_________________________________________________________________\n",
            "dense_2 (Dense)              (None, 512)               4194816   \n",
            "_________________________________________________________________\n",
            "dropout_3 (Dropout)          (None, 512)               0         \n",
            "_________________________________________________________________\n",
            "dense_3 (Dense)              (None, 10)                5130      \n",
            "=================================================================\n",
            "Total params: 4,210,090\n",
            "Trainable params: 4,210,090\n",
            "Non-trainable params: 0\n",
            "_________________________________________________________________\n",
            "None\n"
          ],
          "name": "stdout"
        }
      ]
    },
    {
      "cell_type": "code",
      "metadata": {
        "colab": {
          "base_uri": "https://localhost:8080/"
        },
        "id": "2-zandk-AMH1",
        "outputId": "52a17b4d-2f1a-4eae-c939-a8748ad32a80"
      },
      "source": [
        "#Fit the model\n",
        "history= model.fit(X_train, y_train, validation_data=(X_test, y_test), epochs=epochs, batch_size=32)"
      ],
      "execution_count": 29,
      "outputs": [
        {
          "output_type": "stream",
          "text": [
            "Epoch 1/3\n",
            "1563/1563 [==============================] - 240s 153ms/step - loss: 1.9043 - accuracy: 0.3082 - val_loss: 1.4877 - val_accuracy: 0.4784\n",
            "Epoch 2/3\n",
            "1563/1563 [==============================] - 237s 152ms/step - loss: 1.4628 - accuracy: 0.4723 - val_loss: 1.3322 - val_accuracy: 0.5272\n",
            "Epoch 3/3\n",
            "1563/1563 [==============================] - 238s 152ms/step - loss: 1.3610 - accuracy: 0.5093 - val_loss: 1.2614 - val_accuracy: 0.5539\n"
          ],
          "name": "stdout"
        }
      ]
    },
    {
      "cell_type": "code",
      "metadata": {
        "colab": {
          "base_uri": "https://localhost:8080/"
        },
        "id": "vjXuHdaeCABa",
        "outputId": "4de74ff1-b8e9-4584-e685-876574597bf0"
      },
      "source": [
        "#Evaluating the model to find the Accuracy\n",
        "scores = model.evaluate(X_test, y_test, verbose=0)\n",
        "print(\"Accuracy: %.2f%%\" % (scores[1]*100))"
      ],
      "execution_count": 51,
      "outputs": [
        {
          "output_type": "stream",
          "text": [
            "Accuracy: 55.39%\n"
          ],
          "name": "stdout"
        }
      ]
    },
    {
      "cell_type": "code",
      "metadata": {
        "id": "qtoZK8r2NtI5"
      },
      "source": [
        "# Making the Performance changes according to the ICP\n",
        "\n",
        "m1 = Sequential()\n",
        "m1.add(Conv2D(32, (3, 3), input_shape=(X_train.shape[1:]), padding='same', activation='relu'))\n",
        "m1.add(Dropout(0.2))\n",
        "m1.add(Conv2D(32, (3, 3), activation='relu', padding='same'))\n",
        "m1.add(MaxPooling2D(pool_size=(2, 2)))\n",
        "m1.add(Conv2D(64, (3, 3), activation='relu', padding='same'))\n",
        "m1.add(Dropout(0.2))\n",
        "m1.add(Conv2D(64, (3, 3), activation='relu', padding='same'))\n",
        "m1.add(MaxPooling2D(pool_size=(2, 2)))\n",
        "m1.add(Conv2D(128, (3, 3), activation='relu', padding='same'))\n",
        "m1.add(Dropout(0.2))\n",
        "m1.add(Conv2D(128, (3, 3), activation='relu', padding='same'))\n",
        "m1.add(MaxPooling2D(pool_size=(2, 2)))\n",
        "m1.add(Flatten())\n",
        "m1.add(Dropout(0.2))\n",
        "m1.add(Dense(1024, activation='relu', kernel_constraint=maxnorm(3)))\n",
        "m1.add(Dropout(0.2))\n",
        "m1.add(Dense(512, activation='relu', kernel_constraint=maxnorm(3)))\n",
        "m1.add(Dropout(0.2))\n",
        "m1.add(Dense(num_classes, activation='softmax'))"
      ],
      "execution_count": 33,
      "outputs": []
    },
    {
      "cell_type": "code",
      "metadata": {
        "id": "Mj5FkCWQN3aU"
      },
      "source": [
        "epochs = 3\n",
        "lrate = 0.01\n",
        "decay = lrate/epochs\n",
        "sgd = SGD(lr=lrate, momentum=0.9, decay=decay, nesterov=False)\n",
        "m1.compile(loss='categorical_crossentropy', optimizer=sgd, metrics=['accuracy'])"
      ],
      "execution_count": 36,
      "outputs": []
    },
    {
      "cell_type": "code",
      "metadata": {
        "colab": {
          "base_uri": "https://localhost:8080/"
        },
        "id": "Lq7fLwkjOR2l",
        "outputId": "40077264-8d77-4e1a-8d83-3f2ecd335599"
      },
      "source": [
        "print(model.summary())"
      ],
      "execution_count": 37,
      "outputs": [
        {
          "output_type": "stream",
          "text": [
            "Model: \"sequential_1\"\n",
            "_________________________________________________________________\n",
            "Layer (type)                 Output Shape              Param #   \n",
            "=================================================================\n",
            "conv2d_2 (Conv2D)            (None, 32, 32, 32)        896       \n",
            "_________________________________________________________________\n",
            "dropout_2 (Dropout)          (None, 32, 32, 32)        0         \n",
            "_________________________________________________________________\n",
            "conv2d_3 (Conv2D)            (None, 32, 32, 32)        9248      \n",
            "_________________________________________________________________\n",
            "max_pooling2d_1 (MaxPooling2 (None, 16, 16, 32)        0         \n",
            "_________________________________________________________________\n",
            "flatten_1 (Flatten)          (None, 8192)              0         \n",
            "_________________________________________________________________\n",
            "dense_2 (Dense)              (None, 512)               4194816   \n",
            "_________________________________________________________________\n",
            "dropout_3 (Dropout)          (None, 512)               0         \n",
            "_________________________________________________________________\n",
            "dense_3 (Dense)              (None, 10)                5130      \n",
            "=================================================================\n",
            "Total params: 4,210,090\n",
            "Trainable params: 4,210,090\n",
            "Non-trainable params: 0\n",
            "_________________________________________________________________\n",
            "None\n"
          ],
          "name": "stdout"
        }
      ]
    },
    {
      "cell_type": "code",
      "metadata": {
        "colab": {
          "base_uri": "https://localhost:8080/"
        },
        "id": "yVhwNrNvOTDs",
        "outputId": "5cd79b7a-8f98-4366-e595-8bb1dc22a0db"
      },
      "source": [
        "history1=m1.fit(X_train, y_train, validation_data=(X_test, y_test), epochs=epochs, batch_size=128)"
      ],
      "execution_count": 39,
      "outputs": [
        {
          "output_type": "stream",
          "text": [
            "Epoch 1/3\n",
            "391/391 [==============================] - 415s 1s/step - loss: 2.1712 - accuracy: 0.1865 - val_loss: 1.9220 - val_accuracy: 0.3150\n",
            "Epoch 2/3\n",
            "391/391 [==============================] - 414s 1s/step - loss: 1.8509 - accuracy: 0.3179 - val_loss: 1.6767 - val_accuracy: 0.4020\n",
            "Epoch 3/3\n",
            "391/391 [==============================] - 415s 1s/step - loss: 1.6508 - accuracy: 0.3995 - val_loss: 1.5184 - val_accuracy: 0.4579\n"
          ],
          "name": "stdout"
        }
      ]
    },
    {
      "cell_type": "code",
      "metadata": {
        "colab": {
          "base_uri": "https://localhost:8080/",
          "height": 295
        },
        "id": "6a-fqLWrUGsE",
        "outputId": "b83e591a-638e-42d4-d140-d21b383bda8d"
      },
      "source": [
        "# Plotting the history with Accuracy and Loss data\n",
        "\n",
        "plt.plot(history1.history['accuracy'])\n",
        "plt.plot(history1.history['val_accuracy'])\n",
        "plt.plot(history1.history['loss'])\n",
        "plt.plot(history1.history['val_loss'])\n",
        "plt.title('model accuracy')\n",
        "plt.ylabel('accuracy')\n",
        "plt.xlabel('epoch')\n",
        "plt.legend(['accuray', 'val_accuracy','loss','val_loss'], loc='upper right')\n",
        "plt.show()\n"
      ],
      "execution_count": 41,
      "outputs": [
        {
          "output_type": "display_data",
          "data": {
            "image/png": "[encoded data removed]",
            "text/plain": [
              "<Figure size 432x288 with 1 Axes>"
            ]
          },
          "metadata": {
            "tags": [],
            "needs_background": "light"
          }
        }
      ]
    },
    {
      "cell_type": "code",
      "metadata": {
        "colab": {
          "base_uri": "https://localhost:8080/"
        },
        "id": "E3zamWiUVU_d",
        "outputId": "6146e141-fd5d-42c8-9857-47e9cfaf118d"
      },
      "source": [
        "scores = m1.evaluate(X_test, y_test, verbose=1)\n",
        "print('Test loss score is :', scores[0])\n",
        "print('Test accuracy score is :', scores[1])\n",
        "print(\"Accuracy is : %.2f%%\" % (scores[1]*100))"
      ],
      "execution_count": 52,
      "outputs": [
        {
          "output_type": "stream",
          "text": [
            "313/313 [==============================] - 20s 65ms/step - loss: 1.5184 - accuracy: 0.4579\n",
            "Test loss score is : 1.5183993577957153\n",
            "Test accuracy score is : 0.4578999876976013\n",
            "Accuracy is : 45.79%\n"
          ],
          "name": "stdout"
        }
      ]
    },
    {
      "cell_type": "code",
      "metadata": {
        "colab": {
          "base_uri": "https://localhost:8080/",
          "height": 1000
        },
        "id": "MrxSviRCVeVg",
        "outputId": "40f7b036-2500-4517-9fbb-c6a95db82b77"
      },
      "source": [
        "import matplotlib.pyplot as plt\n",
        "for k in range(1,5):\n",
        "    plt.imshow(X_test[k,:,:])  \n",
        "    plt.show()\n",
        "    y=model.predict_classes(X_test[[k],:])\n",
        "    print(\"actual\",y_test[k],\"predicted\",y[0])\n"
      ],
      "execution_count": 46,
      "outputs": [
        {
          "output_type": "display_data",
          "data": {
            "image/png": "[encoded data removed]",
            "text/plain": [
              "<Figure size 432x288 with 1 Axes>"
            ]
          },
          "metadata": {
            "tags": [],
            "needs_background": "light"
          }
        },
        {
          "output_type": "stream",
          "text": [
            "/usr/local/lib/python3.7/dist-packages/tensorflow/python/keras/engine/sequential.py:450: UserWarning: `model.predict_classes()` is deprecated and will be removed after 2021-01-01. Please use instead:* `np.argmax(model.predict(x), axis=-1)`,   if your model does multi-class classification   (e.g. if it uses a `softmax` last-layer activation).* `(model.predict(x) > 0.5).astype(\"int32\")`,   if your model does binary classification   (e.g. if it uses a `sigmoid` last-layer activation).\n",
            "  warnings.warn('`model.predict_classes()` is deprecated and '\n"
          ],
          "name": "stderr"
        },
        {
          "output_type": "stream",
          "text": [
            "actual [0. 0. 0. 0. 0. 0. 0. 0. 1. 0.] predicted 8\n"
          ],
          "name": "stdout"
        },
        {
          "output_type": "display_data",
          "data": {
            "image/png": "[encoded data removed]",
            "text/plain": [
              "<Figure size 432x288 with 1 Axes>"
            ]
          },
          "metadata": {
            "tags": [],
            "needs_background": "light"
          }
        },
        {
          "output_type": "stream",
          "text": [
            "actual [0. 0. 0. 0. 0. 0. 0. 0. 1. 0.] predicted 8\n"
          ],
          "name": "stdout"
        },
        {
          "output_type": "display_data",
          "data": {
            "image/png": "[encoded data removed]",
            "text/plain": [
              "<Figure size 432x288 with 1 Axes>"
            ]
          },
          "metadata": {
            "tags": [],
            "needs_background": "light"
          }
        },
        {
          "output_type": "stream",
          "text": [
            "actual [1. 0. 0. 0. 0. 0. 0. 0. 0. 0.] predicted 8\n"
          ],
          "name": "stdout"
        },
        {
          "output_type": "display_data",
          "data": {
            "image/png": "[encoded data removed]",
            "text/plain": [
              "<Figure size 432x288 with 1 Axes>"
            ]
          },
          "metadata": {
            "tags": [],
            "needs_background": "light"
          }
        },
        {
          "output_type": "stream",
          "text": [
            "actual [0. 0. 0. 0. 0. 0. 1. 0. 0. 0.] predicted 4\n"
          ],
          "name": "stdout"
        }
      ]
    },
    {
      "cell_type": "code",
      "metadata": {
        "id": "Hu9cZ9m9Wog2"
      },
      "source": [
        "m1.save(\"my_model.h5\")\n",
        "import tensorflow as tf\n",
        "from tensorflow import keras\n",
        "new_model = tf.keras.models.load_model('my_model.h5')"
      ],
      "execution_count": 48,
      "outputs": []
    },
    {
      "cell_type": "code",
      "metadata": {
        "colab": {
          "base_uri": "https://localhost:8080/",
          "height": 1000
        },
        "id": "VuEJJyvWW2p1",
        "outputId": "2795fc8d-2502-4603-ad35-949e44ad4cc2"
      },
      "source": [
        "#Bonus Question\n",
        "#Predicting the first four images of the h5 model\n",
        "\n",
        "import matplotlib.pyplot as plt\n",
        "for i in range(1,5):\n",
        "  plt.imshow(X_test[i,:,:])  \n",
        "  plt.show()\n",
        "  y=new_model.predict_classes(X_test[[i],:])\n",
        "  print(\"actual\",yp[i],\"predicted\",y[0])"
      ],
      "execution_count": 49,
      "outputs": [
        {
          "output_type": "display_data",
          "data": {
            "image/png": "[encoded data removed]",
            "text/plain": [
              "<Figure size 432x288 with 1 Axes>"
            ]
          },
          "metadata": {
            "tags": [],
            "needs_background": "light"
          }
        },
        {
          "output_type": "stream",
          "text": [
            "/usr/local/lib/python3.7/dist-packages/tensorflow/python/keras/engine/sequential.py:450: UserWarning: `model.predict_classes()` is deprecated and will be removed after 2021-01-01. Please use instead:* `np.argmax(model.predict(x), axis=-1)`,   if your model does multi-class classification   (e.g. if it uses a `softmax` last-layer activation).* `(model.predict(x) > 0.5).astype(\"int32\")`,   if your model does binary classification   (e.g. if it uses a `sigmoid` last-layer activation).\n",
            "  warnings.warn('`model.predict_classes()` is deprecated and '\n"
          ],
          "name": "stderr"
        },
        {
          "output_type": "stream",
          "text": [
            "actual [8] predicted 1\n"
          ],
          "name": "stdout"
        },
        {
          "output_type": "display_data",
          "data": {
            "image/png": "[encoded data removed]",
            "text/plain": [
              "<Figure size 432x288 with 1 Axes>"
            ]
          },
          "metadata": {
            "tags": [],
            "needs_background": "light"
          }
        },
        {
          "output_type": "stream",
          "text": [
            "actual [8] predicted 8\n"
          ],
          "name": "stdout"
        },
        {
          "output_type": "display_data",
          "data": {
            "image/png": "[encoded data removed]",
            "text/plain": [
              "<Figure size 432x288 with 1 Axes>"
            ]
          },
          "metadata": {
            "tags": [],
            "needs_background": "light"
          }
        },
        {
          "output_type": "stream",
          "text": [
            "actual [0] predicted 8\n"
          ],
          "name": "stdout"
        },
        {
          "output_type": "display_data",
          "data": {
            "image/png": "[encoded data removed]",
            "text/plain": [
              "<Figure size 432x288 with 1 Axes>"
            ]
          },
          "metadata": {
            "tags": [],
            "needs_background": "light"
          }
        },
        {
          "output_type": "stream",
          "text": [
            "actual [6] predicted 4\n"
          ],
          "name": "stdout"
        }
      ]
    }
  ]
}