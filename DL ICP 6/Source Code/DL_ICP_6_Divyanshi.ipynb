{
  "nbformat": 4,
  "nbformat_minor": 0,
  "metadata": {
    "colab": {
      "name": "DL ICP 6 Divyanshi.ipynb",
      "provenance": []
    },
    "kernelspec": {
      "name": "python3",
      "display_name": "Python 3"
    },
    "language_info": {
      "name": "python"
    }
  },
  "cells": [
    {
      "cell_type": "code",
      "metadata": {
        "colab": {
          "base_uri": "https://localhost:8080/"
        },
        "id": "ZpocdQ1g8iK6",
        "outputId": "fe97edfa-3cfd-4425-c308-e2f4f922fbff"
      },
      "source": [
        "from keras.layers import Input, Dense\n",
        "from keras.models import Model\n",
        "\n",
        "# this is the size of our encoded representations\n",
        "encoding_dim = 32  # 32 floats -> compression of factor 24.5, assuming the input is 784 floats\n",
        "\n",
        "# this is our input placeholder\n",
        "input_img = Input(shape=(784,))\n",
        "# \"encoded\" is the encoded representation of the input\n",
        "encoded = Dense(encoding_dim, activation='relu')(input_img)\n",
        "# \"decoded\" is the lossy reconstruction of the input\n",
        "decoded = Dense(784, activation='sigmoid')(encoded)\n",
        "# this model maps an input to its reconstruction\n",
        "autoencoder = Model(input_img, decoded)\n",
        "# this model maps an input to its encoded representation\n",
        "autoencoder.compile(optimizer='adadelta', loss='binary_crossentropy',metrics=['accuracy'])\n",
        "\n",
        "from keras.datasets import mnist, fashion_mnist\n",
        "import numpy as np\n",
        "\n",
        "(x_train, y_train), (x_test, y_test) = fashion_mnist.load_data()\n",
        "x_train = x_train.astype('float32') / 255.\n",
        "x_test = x_test.astype('float32') / 255.\n",
        "x_train = x_train.reshape((len(x_train), np.prod(x_train.shape[1:])))\n",
        "x_test = x_test.reshape((len(x_test), np.prod(x_test.shape[1:])))\n",
        "\n",
        "autoencoder.fit(x_train, x_train,\n",
        "                epochs=5,\n",
        "                batch_size=256,\n",
        "                shuffle=True,\n",
        "                validation_data=(x_test, x_test))"
      ],
      "execution_count": 1,
      "outputs": [
        {
          "output_type": "stream",
          "text": [
            "Downloading data from https://storage.googleapis.com/tensorflow/tf-keras-datasets/train-labels-idx1-ubyte.gz\n",
            "32768/29515 [=================================] - 0s 0us/step\n",
            "Downloading data from https://storage.googleapis.com/tensorflow/tf-keras-datasets/train-images-idx3-ubyte.gz\n",
            "26427392/26421880 [==============================] - 0s 0us/step\n",
            "Downloading data from https://storage.googleapis.com/tensorflow/tf-keras-datasets/t10k-labels-idx1-ubyte.gz\n",
            "8192/5148 [===============================================] - 0s 0us/step\n",
            "Downloading data from https://storage.googleapis.com/tensorflow/tf-keras-datasets/t10k-images-idx3-ubyte.gz\n",
            "4423680/4422102 [==============================] - 0s 0us/step\n",
            "Epoch 1/5\n",
            "235/235 [==============================] - 4s 15ms/step - loss: 0.6935 - accuracy: 0.0021 - val_loss: 0.6934 - val_accuracy: 0.0023\n",
            "Epoch 2/5\n",
            "235/235 [==============================] - 3s 13ms/step - loss: 0.6934 - accuracy: 0.0019 - val_loss: 0.6933 - val_accuracy: 0.0023\n",
            "Epoch 3/5\n",
            "235/235 [==============================] - 3s 13ms/step - loss: 0.6932 - accuracy: 0.0020 - val_loss: 0.6932 - val_accuracy: 0.0024\n",
            "Epoch 4/5\n",
            "235/235 [==============================] - 3s 14ms/step - loss: 0.6931 - accuracy: 0.0014 - val_loss: 0.6931 - val_accuracy: 0.0023\n",
            "Epoch 5/5\n",
            "235/235 [==============================] - 3s 14ms/step - loss: 0.6930 - accuracy: 0.0017 - val_loss: 0.6929 - val_accuracy: 0.0022\n"
          ],
          "name": "stdout"
        },
        {
          "output_type": "execute_result",
          "data": {
            "text/plain": [
              "<tensorflow.python.keras.callbacks.History at 0x7f317cadb350>"
            ]
          },
          "metadata": {
            "tags": []
          },
          "execution_count": 1
        }
      ]
    },
    {
      "cell_type": "code",
      "metadata": {
        "colab": {
          "base_uri": "https://localhost:8080/"
        },
        "id": "eeBeNuBU8sPA",
        "outputId": "eb255679-f3ba-40ed-c077-fb06c5206fa0"
      },
      "source": [
        "#Question 1: Add one more hidden layer to autoencoder\n",
        "\n",
        "# this is the size of our encoded representations\n",
        "encoding_dim = 32  # 32 floats -> compression of factor 24.5, assuming the input is 784 floats\n",
        "\n",
        "# this is our input placeholder\n",
        "input_img = Input(shape=(784,))\n",
        "# \"encoded\" is the encoded representation of the input\n",
        "encoded = Dense(encoding_dim, activation='relu')(input_img)\n",
        "# adding a hidden layer\n",
        "HiddenLayer=Dense(512,activation='relu')(encoded)\n",
        "# \"decoded\" is the lossy reconstruction of the input\n",
        "decoded = Dense(784, activation='sigmoid')(HiddenLayer)\n",
        "# this model maps an input to its reconstruction\n",
        "autoencoder1 = Model(input_img, decoded)\n",
        "# this model maps an input to its encoded representation\n",
        "autoencoder1.compile(optimizer='adadelta', loss='binary_crossentropy',)\n",
        "from keras.datasets import mnist, fashion_mnist\n",
        "import numpy as np\n",
        "(x_train, y_train), (x_test, y_test) = fashion_mnist.load_data()\n",
        "x_train = x_train.astype('float32') / 255.\n",
        "x_test = x_test.astype('float32') / 255.\n",
        "x_train = x_train.reshape((len(x_train), np.prod(x_train.shape[1:])))\n",
        "x_test = x_test.reshape((len(x_test), np.prod(x_test.shape[1:])))\n",
        "\n",
        "autoencoder1.fit(x_train, x_train,\n",
        "                epochs=5,\n",
        "                batch_size=256,\n",
        "                shuffle=True,\n",
        "                validation_data=(x_test, x_test))"
      ],
      "execution_count": 10,
      "outputs": [
        {
          "output_type": "stream",
          "text": [
            "Epoch 1/5\n",
            "235/235 [==============================] - 7s 30ms/step - loss: 0.6940 - val_loss: 0.6938\n",
            "Epoch 2/5\n",
            "235/235 [==============================] - 7s 30ms/step - loss: 0.6938 - val_loss: 0.6936\n",
            "Epoch 3/5\n",
            "235/235 [==============================] - 7s 30ms/step - loss: 0.6936 - val_loss: 0.6934\n",
            "Epoch 4/5\n",
            "235/235 [==============================] - 7s 29ms/step - loss: 0.6934 - val_loss: 0.6933\n",
            "Epoch 5/5\n",
            "235/235 [==============================] - 7s 29ms/step - loss: 0.6932 - val_loss: 0.6931\n"
          ],
          "name": "stdout"
        },
        {
          "output_type": "execute_result",
          "data": {
            "text/plain": [
              "<tensorflow.python.keras.callbacks.History at 0x7f3177821a50>"
            ]
          },
          "metadata": {
            "tags": []
          },
          "execution_count": 10
        }
      ]
    },
    {
      "cell_type": "code",
      "metadata": {
        "colab": {
          "base_uri": "https://localhost:8080/",
          "height": 265
        },
        "id": "4Zez4PSi8yEj",
        "outputId": "46fdf1b3-b3e0-422f-8dba-a1ad104eb3f3"
      },
      "source": [
        "#Question 2: Do the prediction on the test data and then visualize one of the reconstructed version of that test data. Also, visualize the same test data before reconstruction using Matplotlib\n",
        "\n",
        "# prediction\n",
        "prediction = autoencoder1.predict(x_test[[6],:])\n",
        "\n",
        "from matplotlib import pyplot as plt\n",
        "# Input Image\n",
        "plt.imshow(x_test[1].reshape(28,28))\n",
        "plt.show()"
      ],
      "execution_count": 24,
      "outputs": [
        {
          "output_type": "display_data",
          "data": {
            "image/png": "[encoded data removed]",
            "text/plain": [
              "<Figure size 432x288 with 1 Axes>"
            ]
          },
          "metadata": {
            "tags": [],
            "needs_background": "light"
          }
        }
      ]
    },
    {
      "cell_type": "code",
      "metadata": {
        "colab": {
          "base_uri": "https://localhost:8080/",
          "height": 265
        },
        "id": "6raH3m_t82lF",
        "outputId": "2b0fcf74-a10b-4100-af79-92d30365ab07"
      },
      "source": [
        "# Reconstructed Image\n",
        "plt.imshow(prediction[0].reshape(28,28))\n",
        "plt.show()"
      ],
      "execution_count": 25,
      "outputs": [
        {
          "output_type": "display_data",
          "data": {
            "image/png": "[encoded data removed]",
            "text/plain": [
              "<Figure size 432x288 with 1 Axes>"
            ]
          },
          "metadata": {
            "tags": [],
            "needs_background": "light"
          }
        }
      ]
    },
    {
      "cell_type": "code",
      "metadata": {
        "colab": {
          "base_uri": "https://localhost:8080/"
        },
        "id": "rf7zpaWv84Xq",
        "outputId": "7c8531c4-64b0-4829-e20d-e7e678a971c8"
      },
      "source": [
        "#Question 3: Repeat the question 2 on the denoisening autoencoder\n",
        "\n",
        "#introducing noise\n",
        "noise_factor = 0.5\n",
        "x_train_noisy = x_train + noise_factor * np.random.normal(loc=0.0, scale=1.0, size=x_train.shape)\n",
        "x_test_noisy = x_test + noise_factor * np.random.normal(loc=0.0, scale=1.0, size=x_test.shape)\n",
        "\n",
        "history = autoencoder.fit(x_train_noisy, x_train,\n",
        "                epochs=10,\n",
        "                batch_size=256,\n",
        "                shuffle=True,\n",
        "                validation_data=(x_test_noisy, x_test_noisy))"
      ],
      "execution_count": 26,
      "outputs": [
        {
          "output_type": "stream",
          "text": [
            "Epoch 1/10\n",
            "235/235 [==============================] - 3s 14ms/step - loss: 0.6928 - accuracy: 0.0016 - val_loss: 0.6928 - val_accuracy: 0.0021\n",
            "Epoch 2/10\n",
            "235/235 [==============================] - 3s 14ms/step - loss: 0.6926 - accuracy: 0.0016 - val_loss: 0.6926 - val_accuracy: 0.0021\n",
            "Epoch 3/10\n",
            "235/235 [==============================] - 3s 13ms/step - loss: 0.6925 - accuracy: 0.0016 - val_loss: 0.6925 - val_accuracy: 0.0021\n",
            "Epoch 4/10\n",
            "235/235 [==============================] - 3s 14ms/step - loss: 0.6923 - accuracy: 0.0016 - val_loss: 0.6923 - val_accuracy: 0.0021\n",
            "Epoch 5/10\n",
            "235/235 [==============================] - 3s 13ms/step - loss: 0.6922 - accuracy: 0.0017 - val_loss: 0.6921 - val_accuracy: 0.0022\n",
            "Epoch 6/10\n",
            "235/235 [==============================] - 3s 14ms/step - loss: 0.6920 - accuracy: 0.0017 - val_loss: 0.6920 - val_accuracy: 0.0022\n",
            "Epoch 7/10\n",
            "235/235 [==============================] - 3s 13ms/step - loss: 0.6919 - accuracy: 0.0017 - val_loss: 0.6918 - val_accuracy: 0.0022\n",
            "Epoch 8/10\n",
            "235/235 [==============================] - 3s 14ms/step - loss: 0.6917 - accuracy: 0.0017 - val_loss: 0.6917 - val_accuracy: 0.0023\n",
            "Epoch 9/10\n",
            "235/235 [==============================] - 3s 14ms/step - loss: 0.6915 - accuracy: 0.0018 - val_loss: 0.6915 - val_accuracy: 0.0023\n",
            "Epoch 10/10\n",
            "235/235 [==============================] - 3s 14ms/step - loss: 0.6914 - accuracy: 0.0018 - val_loss: 0.6914 - val_accuracy: 0.0023\n"
          ],
          "name": "stdout"
        }
      ]
    },
    {
      "cell_type": "code",
      "metadata": {
        "colab": {
          "base_uri": "https://localhost:8080/",
          "height": 265
        },
        "id": "tqroe3e79AS9",
        "outputId": "c1924c2b-42e2-436d-a83a-76102c85f380"
      },
      "source": [
        "# prediction\n",
        "prediction1 = autoencoder.predict(x_test_noisy[[15],:])\n",
        "\n",
        "# Input Image\n",
        "plt.imshow(x_test[9].reshape(28,28))\n",
        "plt.show()"
      ],
      "execution_count": 29,
      "outputs": [
        {
          "output_type": "display_data",
          "data": {
            "image/png": "[encoded data removed]",
            "text/plain": [
              "<Figure size 432x288 with 1 Axes>"
            ]
          },
          "metadata": {
            "tags": [],
            "needs_background": "light"
          }
        }
      ]
    },
    {
      "cell_type": "code",
      "metadata": {
        "colab": {
          "base_uri": "https://localhost:8080/",
          "height": 513
        },
        "id": "0d_t-wuF9CXr",
        "outputId": "90916332-1160-4508-c212-bc9f51232b7d"
      },
      "source": [
        "# After applying noise to data\n",
        "plt.imshow(x_test_noisy[15].reshape(28,28))\n",
        "plt.show()\n",
        "\n",
        "# Reconstructed Image\n",
        "plt.imshow(prediction1[0].reshape(28,28))\n",
        "plt.show()"
      ],
      "execution_count": 30,
      "outputs": [
        {
          "output_type": "display_data",
          "data": {
            "image/png": "[encoded data removed]",
            "text/plain": [
              "<Figure size 432x288 with 1 Axes>"
            ]
          },
          "metadata": {
            "tags": [],
            "needs_background": "light"
          }
        },
        {
          "output_type": "display_data",
          "data": {
            "image/png": "[encoded data removed]",
            "text/plain": [
              "<Figure size 432x288 with 1 Axes>"
            ]
          },
          "metadata": {
            "tags": [],
            "needs_background": "light"
          }
        }
      ]
    },
    {
      "cell_type": "code",
      "metadata": {
        "colab": {
          "base_uri": "https://localhost:8080/",
          "height": 295
        },
        "id": "jIYxMZLt9F-k",
        "outputId": "8fa9e81e-d161-4e08-de2e-b28228e6c60a"
      },
      "source": [
        "#Question 4: Plot loss and accuracy using the history object\n",
        "\n",
        "import matplotlib.pyplot as plt\n",
        "plt.plot(history.history['accuracy'])\n",
        "plt.plot(history.history['loss'])\n",
        "plt.title('model accuracy vs loss')\n",
        "plt.xlabel('epoch')\n",
        "plt.legend(['accuray','loss'], loc='upper left')\n",
        "plt.show()"
      ],
      "execution_count": 31,
      "outputs": [
        {
          "output_type": "display_data",
          "data": {
            "image/png": "[encoded data removed]",
            "text/plain": [
              "<Figure size 432x288 with 1 Axes>"
            ]
          },
          "metadata": {
            "tags": [],
            "needs_background": "light"
          }
        }
      ]
    },
    {
      "cell_type": "code",
      "metadata": {
        "colab": {
          "base_uri": "https://localhost:8080/",
          "height": 62
        },
        "id": "YtkDpC4i9Lk4",
        "outputId": "6dcf1f19-a49a-4246-f7f8-81323f4afc35"
      },
      "source": [
        "#Bonus Question: Visualize the compressed version of the input data in the middle layer\n",
        "\n",
        "# this is our input placeholder\n",
        "input_img = Input(shape=(784,))\n",
        "# \"encoded\" is the encoded representation of the input\n",
        "encoded = Dense(encoding_dim, activation='relu')(input_img)\n",
        "# \"decoded\" is the lossy reconstruction of the input\n",
        "decoded = Dense(784, activation='sigmoid')(encoded)\n",
        "encoder = Model(input_img, encoded)\n",
        "encoder.compile(optimizer='adadelta', loss='binary_crossentropy',metrics=['accuracy'])\n",
        "\n",
        "(x_train, y_train), (x_test, y_test) = fashion_mnist.load_data()\n",
        "x_train = x_train.astype('float32') / 255.\n",
        "x_test = x_test.astype('float32') / 255.\n",
        "x_train = x_train.reshape((len(x_train), np.prod(x_train.shape[1:])))\n",
        "x_test = x_test.reshape((len(x_test), np.prod(x_test.shape[1:])))\n",
        "\n",
        "encoded_imgs = encoder.predict(x_test[[2],:])\n",
        "\n",
        "plt.imshow(encoded_imgs)\n",
        "plt.show()"
      ],
      "execution_count": 32,
      "outputs": [
        {
          "output_type": "display_data",
          "data": {
            "image/png": "[encoded data removed]",
            "text/plain": [
              "<Figure size 432x288 with 1 Axes>"
            ]
          },
          "metadata": {
            "tags": [],
            "needs_background": "light"
          }
        }
      ]
    }
  ]
}