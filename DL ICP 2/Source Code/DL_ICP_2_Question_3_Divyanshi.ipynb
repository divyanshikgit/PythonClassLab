{
  "nbformat": 4,
  "nbformat_minor": 0,
  "metadata": {
    "colab": {
      "name": "DL ICP 2  Question 3 Divyanshi.ipynb",
      "provenance": []
    },
    "kernelspec": {
      "name": "python3",
      "display_name": "Python 3"
    },
    "language_info": {
      "name": "python"
    }
  },
  "cells": [
    {
      "cell_type": "code",
      "metadata": {
        "id": "kiSu6Q3HNgF_"
      },
      "source": [
        ""
      ],
      "execution_count": null,
      "outputs": []
    },
    {
      "cell_type": "code",
      "metadata": {
        "colab": {
          "base_uri": "https://localhost:8080/"
        },
        "id": "rjpW6Y-bWX5X",
        "outputId": "9210b138-e38b-4c38-bcae-cb47f2d82ef8"
      },
      "source": [
        "from keras import Sequential\n",
        "from keras.datasets import mnist\n",
        "import numpy as np\n",
        "from keras.layers import Dense\n",
        "from keras.utils import to_categorical\n",
        "import matplotlib.pyplot as plt\n",
        "\n",
        "(train_images,train_labels),(test_images, test_labels) = mnist.load_data()"
      ],
      "execution_count": 1,
      "outputs": [
        {
          "output_type": "stream",
          "text": [
            "Downloading data from https://storage.googleapis.com/tensorflow/tf-keras-datasets/mnist.npz\n",
            "11493376/11490434 [==============================] - 0s 0us/step\n"
          ],
          "name": "stdout"
        }
      ]
    },
    {
      "cell_type": "code",
      "metadata": {
        "colab": {
          "base_uri": "https://localhost:8080/"
        },
        "id": "daWJZBwPW7LA",
        "outputId": "d04d9b12-c8b3-4287-d4bd-d08124179ccd"
      },
      "source": [
        "#process the data\n",
        "#1. convert each image of shape 28*28 to 784 dimensional which will be fed to the network as a single feature\n",
        "dimData = np.prod(train_images.shape[1:])\n",
        "print(dimData)\n",
        "train_data = train_images.reshape(train_images.shape[0],dimData)\n",
        "test_data = test_images.reshape(test_images.shape[0],dimData)\n",
        "\n",
        "#convert data to float and scale values between 0 and 1\n",
        "train_data = train_data.astype('float')\n",
        "test_data = test_data.astype('float')\n",
        "\n",
        "#scaling the data\n",
        "train_data /=255.0\n",
        "test_data /=255.0\n",
        "\n",
        "#change the labels frominteger to one-hot encoding. to_categorical is doing the same thing as LabelEncoder()\n",
        "train_labels_one_hot = to_categorical(train_labels)\n",
        "test_labels_one_hot = to_categorical(test_labels)\n",
        "\n",
        "# Changing the hidden layers and using the tanh and sigmoid\n",
        "model = Sequential()\n",
        "model.add(Dense(512, activation='relu', input_shape=(dimData,)))\n",
        "model.add(Dense(512, activation='relu'))\n",
        "model.add(Dense(128, activation='tanh'))\n",
        "model.add(Dense(100, activation='sigmoid'))\n",
        "model.add(Dense(10, activation='softmax'))\n",
        "\n",
        "model.compile(optimizer='rmsprop', loss='categorical_crossentropy', metrics=['accuracy'])\n",
        "\n",
        "history = model.fit(train_data, train_labels_one_hot, batch_size=256, epochs=10, verbose=1,\n",
        "                   validation_data=(test_data, test_labels_one_hot))\n",
        "\n",
        "[test_loss, test_acc] = model.evaluate(test_data, test_labels_one_hot)\n",
        "print(\"Evaluation result on Test Data : Loss = {}, accuracy = {}\".format(test_loss, test_acc))"
      ],
      "execution_count": 3,
      "outputs": [
        {
          "output_type": "stream",
          "text": [
            "784\n",
            "Epoch 1/10\n",
            "235/235 [==============================] - 7s 25ms/step - loss: 0.7152 - accuracy: 0.8046 - val_loss: 0.2141 - val_accuracy: 0.9321\n",
            "Epoch 2/10\n",
            "235/235 [==============================] - 6s 25ms/step - loss: 0.1163 - accuracy: 0.9657 - val_loss: 0.1021 - val_accuracy: 0.9679\n",
            "Epoch 3/10\n",
            "235/235 [==============================] - 6s 24ms/step - loss: 0.0658 - accuracy: 0.9806 - val_loss: 0.1131 - val_accuracy: 0.9638\n",
            "Epoch 4/10\n",
            "235/235 [==============================] - 6s 24ms/step - loss: 0.0442 - accuracy: 0.9868 - val_loss: 0.0847 - val_accuracy: 0.9772\n",
            "Epoch 5/10\n",
            "235/235 [==============================] - 6s 25ms/step - loss: 0.0332 - accuracy: 0.9899 - val_loss: 0.0751 - val_accuracy: 0.9799\n",
            "Epoch 6/10\n",
            "235/235 [==============================] - 6s 25ms/step - loss: 0.0276 - accuracy: 0.9921 - val_loss: 0.0788 - val_accuracy: 0.9778\n",
            "Epoch 7/10\n",
            "235/235 [==============================] - 6s 25ms/step - loss: 0.0199 - accuracy: 0.9938 - val_loss: 0.1016 - val_accuracy: 0.9744\n",
            "Epoch 8/10\n",
            "235/235 [==============================] - 6s 25ms/step - loss: 0.0170 - accuracy: 0.9949 - val_loss: 0.0817 - val_accuracy: 0.9781\n",
            "Epoch 9/10\n",
            "235/235 [==============================] - 6s 25ms/step - loss: 0.0128 - accuracy: 0.9962 - val_loss: 0.0737 - val_accuracy: 0.9829\n",
            "Epoch 10/10\n",
            "235/235 [==============================] - 6s 25ms/step - loss: 0.0128 - accuracy: 0.9963 - val_loss: 0.0859 - val_accuracy: 0.9787\n",
            "313/313 [==============================] - 1s 3ms/step - loss: 0.0859 - accuracy: 0.9787\n",
            "Evaluation result on Test Data : Loss = 0.08587799966335297, accuracy = 0.9786999821662903\n"
          ],
          "name": "stdout"
        }
      ]
    }
  ]
}