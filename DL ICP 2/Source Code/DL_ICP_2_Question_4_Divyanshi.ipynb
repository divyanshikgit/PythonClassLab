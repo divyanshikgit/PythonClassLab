{
  "nbformat": 4,
  "nbformat_minor": 0,
  "metadata": {
    "colab": {
      "name": "DL ICP 2  Question 4 Divyanshi.ipynb",
      "provenance": []
    },
    "kernelspec": {
      "name": "python3",
      "display_name": "Python 3"
    },
    "language_info": {
      "name": "python"
    }
  },
  "cells": [
    {
      "cell_type": "code",
      "metadata": {
        "id": "uX0BzoyQaeeo"
      },
      "source": [
        "from keras import Sequential\n",
        "from keras.datasets import mnist\n",
        "import numpy as np\n",
        "from keras.layers import Dense\n",
        "from keras.utils import to_categorical\n",
        "import matplotlib.pyplot as plt\n",
        "\n",
        "(train_images,train_labels),(test_images, test_labels) = mnist.load_data()"
      ],
      "execution_count": 3,
      "outputs": []
    },
    {
      "cell_type": "code",
      "metadata": {
        "colab": {
          "base_uri": "https://localhost:8080/"
        },
        "id": "0hm1O4eBajyy",
        "outputId": "789e932f-66ec-46c4-dde1-c739114c0119"
      },
      "source": [
        "#process the data\n",
        "#1. convert each image of shape 28*28 to 784 dimensional which will be fed to the network as a single feature\n",
        "dimData = np.prod(train_images.shape[1:])\n",
        "print(dimData)\n",
        "train_data = train_images.reshape(train_images.shape[0],dimData)\n",
        "test_data = test_images.reshape(test_images.shape[0],dimData)\n",
        "\n",
        "#convert data to float and scale values between 0 and 1\n",
        "train_data = train_data.astype('float')\n",
        "test_data = test_data.astype('float')\n",
        "\n",
        "# Removing the scaling process\n",
        "\n",
        "#change the labels frominteger to one-hot encoding. to_categorical is doing the same thing as LabelEncoder()\n",
        "train_labels_one_hot = to_categorical(train_labels)\n",
        "test_labels_one_hot = to_categorical(test_labels)\n",
        "\n",
        "model = Sequential()\n",
        "model.add(Dense(512, activation='relu', input_shape=(dimData,)))\n",
        "model.add(Dense(512, activation='relu'))\n",
        "model.add(Dense(128, activation='tanh'))\n",
        "model.add(Dense(100, activation='sigmoid'))\n",
        "model.add(Dense(10, activation='softmax'))\n",
        "\n",
        "model.compile(optimizer='rmsprop', loss='categorical_crossentropy', metrics=['accuracy'])\n",
        "\n",
        "history = model.fit(train_data, train_labels_one_hot, batch_size=256, epochs=10, verbose=1,\n",
        "                   validation_data=(test_data, test_labels_one_hot))\n",
        "\n",
        "[test_loss, test_acc] = model.evaluate(test_data, test_labels_one_hot)\n",
        "print(\"Evaluation result on Test Data : Loss = {}, accuracy = {}\".format(test_loss, test_acc))"
      ],
      "execution_count": 7,
      "outputs": [
        {
          "output_type": "stream",
          "text": [
            "784\n",
            "Epoch 1/10\n",
            "235/235 [==============================] - 7s 28ms/step - loss: 1.2451 - accuracy: 0.6457 - val_loss: 0.2952 - val_accuracy: 0.9171\n",
            "Epoch 2/10\n",
            "235/235 [==============================] - 6s 28ms/step - loss: 0.2829 - accuracy: 0.9190 - val_loss: 0.2748 - val_accuracy: 0.9194\n",
            "Epoch 3/10\n",
            "235/235 [==============================] - 6s 27ms/step - loss: 0.2296 - accuracy: 0.9323 - val_loss: 0.2090 - val_accuracy: 0.9381\n",
            "Epoch 4/10\n",
            "235/235 [==============================] - 6s 27ms/step - loss: 0.1994 - accuracy: 0.9421 - val_loss: 0.1791 - val_accuracy: 0.9474\n",
            "Epoch 5/10\n",
            "235/235 [==============================] - 6s 27ms/step - loss: 0.1823 - accuracy: 0.9459 - val_loss: 0.1912 - val_accuracy: 0.9442\n",
            "Epoch 6/10\n",
            "235/235 [==============================] - 6s 28ms/step - loss: 0.1790 - accuracy: 0.9477 - val_loss: 0.1889 - val_accuracy: 0.9458\n",
            "Epoch 7/10\n",
            "235/235 [==============================] - 7s 28ms/step - loss: 0.1707 - accuracy: 0.9503 - val_loss: 0.1694 - val_accuracy: 0.9502\n",
            "Epoch 8/10\n",
            "235/235 [==============================] - 6s 28ms/step - loss: 0.1664 - accuracy: 0.9515 - val_loss: 0.1895 - val_accuracy: 0.9421\n",
            "Epoch 9/10\n",
            "235/235 [==============================] - 7s 28ms/step - loss: 0.1617 - accuracy: 0.9524 - val_loss: 0.1537 - val_accuracy: 0.9551\n",
            "Epoch 10/10\n",
            "235/235 [==============================] - 7s 28ms/step - loss: 0.1542 - accuracy: 0.9543 - val_loss: 0.2068 - val_accuracy: 0.9387\n",
            "313/313 [==============================] - 1s 3ms/step - loss: 0.2068 - accuracy: 0.9387\n",
            "Evaluation result on Test Data : Loss = 0.20681323111057281, accuracy = 0.9387000203132629\n"
          ],
          "name": "stdout"
        }
      ]
    }
  ]
}