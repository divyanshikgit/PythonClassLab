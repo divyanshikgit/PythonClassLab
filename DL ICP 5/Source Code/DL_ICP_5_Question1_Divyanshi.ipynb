{
  "nbformat": 4,
  "nbformat_minor": 0,
  "metadata": {
    "colab": {
      "name": "DL ICP 5 Question1 Divyanshi.ipynb",
      "provenance": [],
      "collapsed_sections": []
    },
    "kernelspec": {
      "name": "python3",
      "display_name": "Python 3"
    },
    "language_info": {
      "name": "python"
    }
  },
  "cells": [
    {
      "cell_type": "code",
      "metadata": {
        "id": "vCqffIQBJ8z8"
      },
      "source": [
        "import pandas as pd # data processing, CSV file I/O (e.g. pd.read_csv)\n",
        "from keras.preprocessing.text import Tokenizer\n",
        "from keras.preprocessing.sequence import pad_sequences\n",
        "from keras.models import Sequential\n",
        "from keras.layers import Dense, Embedding, LSTM, SpatialDropout1D\n",
        "from matplotlib import pyplot\n",
        "from sklearn.model_selection import train_test_split\n",
        "from keras.utils.np_utils import to_categorical\n",
        "import re\n",
        "from sklearn.preprocessing import LabelEncoder\n",
        "from keras.models import model_from_json"
      ],
      "execution_count": 5,
      "outputs": []
    },
    {
      "cell_type": "code",
      "metadata": {
        "colab": {
          "base_uri": "https://localhost:8080/"
        },
        "id": "l83vrOzdKySU",
        "outputId": "074fb7df-2cc7-494a-f13c-2a024841ce1a"
      },
      "source": [
        "#Reading Data, performing Sentiment on the data\n",
        "data = pd.read_csv('Sentiment.csv')\n",
        "# Keeping only the neccessary columns\n",
        "data = data[['text','sentiment']]\n",
        "data['text'] = data['text'].apply(lambda x: x.lower())\n",
        "\n",
        "#Obtaining the size of Positive and Negtive data\n",
        "data['text'] = data['text'].apply((lambda x: re.sub('[^a-zA-z0-9\\s]', '', x)))\n",
        "print(data[data['sentiment'] == 'Positive'].size)\n",
        "print(data[data['sentiment'] == 'Negative'].size)"
      ],
      "execution_count": 6,
      "outputs": [
        {
          "output_type": "stream",
          "text": [
            "4472\n",
            "16986\n"
          ],
          "name": "stdout"
        }
      ]
    },
    {
      "cell_type": "code",
      "metadata": {
        "colab": {
          "base_uri": "https://localhost:8080/"
        },
        "id": "BPlzPQ1BLlM9",
        "outputId": "f521d228-ad5f-4578-8354-314697e4e3d0"
      },
      "source": [
        "#Splitting the data and using Tokenizer\n",
        "for idx, row in data.iterrows():\n",
        "    row[0] = row[0].replace('rt', ' ')\n",
        "max_fatures = 2000\n",
        "tokenizer = Tokenizer(num_words=max_fatures, split=' ')\n",
        "tokenizer.fit_on_texts(data['text'].values)\n",
        "X = tokenizer.texts_to_sequences(data['text'].values)\n",
        "\n",
        "X = pad_sequences(X)\n",
        "#Printing the matrix\n",
        "print(X)"
      ],
      "execution_count": 7,
      "outputs": [
        {
          "output_type": "stream",
          "text": [
            "[[   0    0    0 ...   51 1039    1]\n",
            " [   0    0    0 ... 1577 1356  847]\n",
            " [   0    0    0 ...   10  696  518]\n",
            " ...\n",
            " [   0    0    0 ...   68   62    3]\n",
            " [   0    0    0 ... 1112 1588   81]\n",
            " [   0    0    0 ...  196    3  880]]\n"
          ],
          "name": "stdout"
        }
      ]
    },
    {
      "cell_type": "code",
      "metadata": {
        "id": "oR4OptooLlWd"
      },
      "source": [
        "embed_dim = 128\n",
        "lstm_out = 196\n",
        "\n",
        "#Creating the model\n",
        "def createmodel():\n",
        "    model = Sequential()\n",
        "    model.add(Embedding(max_fatures, embed_dim,input_length = X.shape[1]))\n",
        "    model.add(LSTM(lstm_out, dropout=0.2, recurrent_dropout=0.2))\n",
        "    model.add(Dense(3,activation='softmax'))\n",
        "    model.compile(loss = 'categorical_crossentropy', optimizer='adam',metrics = ['accuracy'])\n",
        "    return model"
      ],
      "execution_count": 8,
      "outputs": []
    },
    {
      "cell_type": "code",
      "metadata": {
        "id": "ti3HSWNvL9nJ"
      },
      "source": [
        "#Performing Transformation\n",
        "labelencoder = LabelEncoder()\n",
        "integer_encoded = labelencoder.fit_transform(data['sentiment'])\n",
        "y = to_categorical(integer_encoded)\n",
        "\n",
        "#Obtaining XTrain, X Test, Y Train and Y Test\n",
        "X_train, X_test, Y_train, Y_test = train_test_split(X,y, test_size = 0.33, random_state = 42)"
      ],
      "execution_count": 9,
      "outputs": []
    },
    {
      "cell_type": "code",
      "metadata": {
        "colab": {
          "base_uri": "https://localhost:8080/"
        },
        "id": "l_IpTAz1MAWA",
        "outputId": "6190f5cb-209c-4640-cbdc-b447720b70d5"
      },
      "source": [
        "batch_size = 32\n",
        "#Creating the model\n",
        "model = createmodel()\n",
        "model.fit(X_train, Y_train, epochs = 5, batch_size=batch_size, verbose = 2)"
      ],
      "execution_count": 11,
      "outputs": [
        {
          "output_type": "stream",
          "text": [
            "Epoch 1/5\n",
            "291/291 - 45s - loss: 0.8242 - accuracy: 0.6442\n",
            "Epoch 2/5\n",
            "291/291 - 42s - loss: 0.6769 - accuracy: 0.7099\n",
            "Epoch 3/5\n",
            "291/291 - 42s - loss: 0.6127 - accuracy: 0.7450\n",
            "Epoch 4/5\n",
            "291/291 - 43s - loss: 0.5638 - accuracy: 0.7615\n",
            "Epoch 5/5\n",
            "291/291 - 43s - loss: 0.5236 - accuracy: 0.7781\n"
          ],
          "name": "stdout"
        },
        {
          "output_type": "execute_result",
          "data": {
            "text/plain": [
              "<tensorflow.python.keras.callbacks.History at 0x7fa9b5377690>"
            ]
          },
          "metadata": {
            "tags": []
          },
          "execution_count": 11
        }
      ]
    },
    {
      "cell_type": "code",
      "metadata": {
        "colab": {
          "base_uri": "https://localhost:8080/"
        },
        "id": "xi7--BmhSL67",
        "outputId": "d74b7809-6741-4806-8e90-b668ebd61163"
      },
      "source": [
        "#Obtaining the Accuracy and loss score\n",
        "score,acc = model.evaluate(X_test,Y_test,verbose=2,batch_size=batch_size)\n",
        "print(score)\n",
        "print(acc)\n",
        "print(model.metrics_names)"
      ],
      "execution_count": 12,
      "outputs": [
        {
          "output_type": "stream",
          "text": [
            "144/144 - 3s - loss: 0.8093 - accuracy: 0.6684\n",
            "0.809275209903717\n",
            "0.6684141755104065\n",
            "['loss', 'accuracy']\n"
          ],
          "name": "stdout"
        }
      ]
    },
    {
      "cell_type": "code",
      "metadata": {
        "colab": {
          "base_uri": "https://localhost:8080/"
        },
        "id": "Lo0Kom0uSY15",
        "outputId": "1e47be2c-b2e5-4b33-9f7e-f0c7274e9c7d"
      },
      "source": [
        "# serialize model to JSON\n",
        "model_json = model.to_json()\n",
        "with open(\"model.json\", \"w\") as json_file:\n",
        "    json_file.write(model_json)\n",
        "# serialize weights to HDF5\n",
        "model.save_weights(\"model.h5\")\n",
        "print(\"Saved model to disk\")"
      ],
      "execution_count": 13,
      "outputs": [
        {
          "output_type": "stream",
          "text": [
            "Saved model to disk\n"
          ],
          "name": "stdout"
        }
      ]
    },
    {
      "cell_type": "code",
      "metadata": {
        "colab": {
          "base_uri": "https://localhost:8080/"
        },
        "id": "PxZzH1HnSZ5D",
        "outputId": "770049b5-20e0-475d-831b-45d7097c89cb"
      },
      "source": [
        "#Extracting the model\n",
        "# load json and create model\n",
        "json_file = open('model.json', 'r')\n",
        "loaded_model_json = json_file.read()\n",
        "json_file.close()\n",
        "loaded_model = model_from_json(loaded_model_json)\n",
        "# load weights into new model\n",
        "loaded_model.load_weights(\"model.h5\")\n",
        "print(\"Loaded model from disk\")"
      ],
      "execution_count": 14,
      "outputs": [
        {
          "output_type": "stream",
          "text": [
            "Loaded model from disk\n"
          ],
          "name": "stdout"
        }
      ]
    },
    {
      "cell_type": "code",
      "metadata": {
        "colab": {
          "base_uri": "https://localhost:8080/"
        },
        "id": "EErRpaqlScpu",
        "outputId": "a64bd297-9b01-4aa6-9171-6548b467306e"
      },
      "source": [
        "#Predicting the Result\n",
        "twt = ['A lot of good things are happening. We are respected again throughout the world, and thats a great thing.@realDonaldTrump' ]\n",
        "#vectorizing the tweet by the pre-fitted tokenizer instance\n",
        "twt = tokenizer.texts_to_sequences(twt)\n",
        "#padding the tweet to have exactly the same shape as `embedding_2` input\n",
        "twt = pad_sequences(twt, maxlen=28, dtype='int32', value=0)\n",
        "print(twt)"
      ],
      "execution_count": 15,
      "outputs": [
        {
          "output_type": "stream",
          "text": [
            "[[  0   0   0   0   0   0   0   0   0   0   0   7 445   5 146 292  35  30\n",
            "   35 371   2 349   8 262   7 153 265  23]]\n"
          ],
          "name": "stdout"
        }
      ]
    },
    {
      "cell_type": "code",
      "metadata": {
        "colab": {
          "base_uri": "https://localhost:8080/"
        },
        "id": "gg-zPLq4SfI3",
        "outputId": "e40b8295-a20c-4efe-a34c-b89a50b96095"
      },
      "source": [
        "#Predicting the sentiment\n",
        "sentiment = loaded_model.predict(twt,batch_size=1,verbose = 2)[0]\n",
        "print(sentiment)"
      ],
      "execution_count": 16,
      "outputs": [
        {
          "output_type": "stream",
          "text": [
            "1/1 - 0s\n",
            "[0.3784042  0.04800899 0.57358676]\n"
          ],
          "name": "stdout"
        }
      ]
    },
    {
      "cell_type": "code",
      "metadata": {
        "colab": {
          "base_uri": "https://localhost:8080/"
        },
        "id": "kITWQ9XNSjlz",
        "outputId": "c5cb54f9-41c5-4119-a899-23edf45a5a70"
      },
      "source": [
        "#Preforming the prediction\n",
        "loaded_model.predict(twt,batch_size=1,verbose = 2)"
      ],
      "execution_count": 17,
      "outputs": [
        {
          "output_type": "stream",
          "text": [
            "1/1 - 0s\n"
          ],
          "name": "stdout"
        },
        {
          "output_type": "execute_result",
          "data": {
            "text/plain": [
              "array([[0.3784042 , 0.04800899, 0.57358676]], dtype=float32)"
            ]
          },
          "metadata": {
            "tags": []
          },
          "execution_count": 17
        }
      ]
    },
    {
      "cell_type": "code",
      "metadata": {
        "id": "U_Gc1A0LSlx8"
      },
      "source": [
        ""
      ],
      "execution_count": null,
      "outputs": []
    }
  ]
}